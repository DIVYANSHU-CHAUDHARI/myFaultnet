{
 "cells": [
  {
   "cell_type": "code",
   "execution_count": 1,
   "metadata": {},
   "outputs": [],
   "source": [
    "import numpy as np\n",
    "import pandas as pd"
   ]
  },
  {
   "cell_type": "code",
   "execution_count": 2,
   "metadata": {},
   "outputs": [],
   "source": [
    "import torch\n",
    "import torch.nn as nn\n",
    "from torchvision.datasets import CIFAR10\n",
    "from torchvision.transforms import transforms\n",
    "from torch.utils.data import DataLoader\n",
    "from torch.optim import Adam\n",
    "from torch.autograd import Variable\n",
    "import torch.nn.functional as F"
   ]
  },
  {
   "cell_type": "code",
   "execution_count": 3,
   "metadata": {},
   "outputs": [],
   "source": [
    "data = np.load('/Users/divyanshuchaudhari/Documents/myFaultNet/Dataset/CWRU files/signal_data.npy')\n",
    "labels = np.load('/Users/divyanshuchaudhari/Documents/myFaultNet/Dataset/CWRU files/signal_data_labels.npy')"
   ]
  },
  {
   "cell_type": "code",
   "execution_count": 4,
   "metadata": {},
   "outputs": [],
   "source": [
    "# x=data[:,0:1600]"
   ]
  },
  {
   "cell_type": "code",
   "execution_count": 5,
   "metadata": {},
   "outputs": [
    {
     "name": "stdout",
     "output_type": "stream",
     "text": [
      "-4.528861845149553 8.908365860788146 -17.413081677628956\n",
      "-2.8757894206644328 10.506660818683983 -15.75374890740285\n",
      "-0.6499507294841451 12.809766599008338 -13.457179999464108\n",
      "2.610832005922203 16.073202789348176 -10.139525035896227\n",
      "4.982436120855565 18.399744575313374 -7.869631265110851\n",
      "8.381616182634955 21.81086354493507 -4.472073588289229\n",
      "10.819770537548125 24.253876238973294 -2.036373891718241\n"
     ]
    }
   ],
   "source": [
    "# Generating white noise\n",
    "# Calculating the SNR\n",
    "white_noise_1 = np.clip(np.random.normal(0, 1, data.shape), -0.5, 0.5) # -4.5\n",
    "signal_energy = np.mean(data**2, axis = 1)\n",
    "noise_energy = np.mean(white_noise_1**2, axis = 1)\n",
    "SNR =  10*np.log10(signal_energy/noise_energy)\n",
    "print(np.mean(SNR), np.max(SNR), np.min(SNR))\n",
    "###\n",
    "white_noise_2 = np.clip(np.random.normal(0, 1, data.shape), -0.4, 0.4) # -2.9\n",
    "signal_energy = np.mean(data**2, axis = 1)\n",
    "noise_energy = np.mean(white_noise_2**2, axis = 1)\n",
    "SNR =  10*np.log10(signal_energy/noise_energy)\n",
    "print(np.mean(SNR), np.max(SNR), np.min(SNR))\n",
    "###\n",
    "white_noise_3 = np.clip(np.random.normal(0, 1, data.shape), -0.3, 0.3) # -0.6\n",
    "signal_energy = np.mean(data**2, axis = 1)\n",
    "noise_energy = np.mean(white_noise_3**2, axis = 1)\n",
    "SNR =  10*np.log10(signal_energy/noise_energy)\n",
    "print(np.mean(SNR), np.max(SNR), np.min(SNR))\n",
    "###\n",
    "white_noise_4 = np.clip(np.random.normal(0, 1, data.shape), -0.2, 0.2) # 2.6\n",
    "signal_energy = np.mean(data**2, axis = 1)\n",
    "noise_energy = np.mean(white_noise_4**2, axis = 1)\n",
    "SNR =  10*np.log10(signal_energy/noise_energy)\n",
    "print(np.mean(SNR), np.max(SNR), np.min(SNR))\n",
    "###\n",
    "white_noise_5 = np.clip(np.random.normal(0, 1, data.shape), -0.15, 0.15) # 5\n",
    "signal_energy = np.mean(data**2, axis = 1)\n",
    "noise_energy = np.mean(white_noise_5**2, axis = 1)\n",
    "SNR =  10*np.log10(signal_energy/noise_energy)\n",
    "print(np.mean(SNR), np.max(SNR), np.min(SNR))\n",
    "###\n",
    "white_noise_6 = np.clip(np.random.normal(0, 1, data.shape), -0.1, 0.1) # 8.4\n",
    "signal_energy = np.mean(data**2, axis = 1)\n",
    "noise_energy = np.mean(white_noise_6**2, axis = 1)\n",
    "SNR =  10*np.log10(signal_energy/noise_energy)\n",
    "print(np.mean(SNR), np.max(SNR), np.min(SNR))\n",
    "###\n",
    "white_noise_7 = np.clip(np.random.normal(0, 1, data.shape), -0.075, 0.075) # 10.8\n",
    "signal_energy = np.mean(data**2, axis = 1)\n",
    "noise_energy = np.mean(white_noise_7**2, axis = 1)\n",
    "SNR =  10*np.log10(signal_energy/noise_energy)\n",
    "print(np.mean(SNR), np.max(SNR), np.min(SNR))"
   ]
  },
  {
   "cell_type": "code",
   "execution_count": 6,
   "metadata": {},
   "outputs": [],
   "source": [
    "# Noisy data\n",
    "data1 = data + white_noise_1\n",
    "data2 = data + white_noise_2\n",
    "data3 = data + white_noise_3\n",
    "data4 = data + white_noise_4\n",
    "data5 = data + white_noise_5\n",
    "data6 = data + white_noise_6\n",
    "data7 = data + white_noise_7"
   ]
  },
  {
   "cell_type": "code",
   "execution_count": 7,
   "metadata": {},
   "outputs": [],
   "source": [
    "x = data1"
   ]
  },
  {
   "cell_type": "code",
   "execution_count": 8,
   "metadata": {},
   "outputs": [],
   "source": [
    "def mean(data,no_elements):\n",
    "    X=np.zeros((data.shape[0],data.shape[1]))\n",
    "    for i in range(data.shape[1]-no_elements+1):\n",
    "        X[:,i]=np.mean(data[:,i:i+no_elements],axis=1)\n",
    "    return X.astype(np.float16)\n",
    "def median(data,no_elements):\n",
    "    X=np.zeros((data.shape[0],data.shape[1]))\n",
    "    for i in range(data.shape[1]-no_elements+1):\n",
    "        X[:,i]=np.median(data[:,i:i+no_elements],axis=1)\n",
    "    return X.astype(np.float16)\n",
    "def sig_image(data,size):\n",
    "    X=np.zeros((data.shape[0],size,size))\n",
    "    for i in range(data.shape[0]):\n",
    "        X[i]=(data[i,:].reshape(size,size))\n",
    "    return X.astype(np.float16)"
   ]
  },
  {
   "cell_type": "code",
   "execution_count": 9,
   "metadata": {},
   "outputs": [],
   "source": [
    "channel_mean=(mean(x,10)).astype(np.float16)\n",
    "x_m=sig_image(channel_mean,40)\n",
    "channel_median=(median(x,10)).astype(np.float16)\n",
    "x_md=sig_image(x,40)"
   ]
  },
  {
   "cell_type": "code",
   "execution_count": 10,
   "metadata": {},
   "outputs": [],
   "source": [
    "x_n=sig_image(x,40)"
   ]
  },
  {
   "cell_type": "code",
   "execution_count": 11,
   "metadata": {},
   "outputs": [
    {
     "data": {
      "text/plain": [
       "(2800, 40, 40)"
      ]
     },
     "execution_count": 11,
     "metadata": {},
     "output_type": "execute_result"
    }
   ],
   "source": [
    "x_n.shape"
   ]
  },
  {
   "cell_type": "code",
   "execution_count": 12,
   "metadata": {},
   "outputs": [
    {
     "data": {
      "text/plain": [
       "(2800, 40, 40)"
      ]
     },
     "execution_count": 12,
     "metadata": {},
     "output_type": "execute_result"
    }
   ],
   "source": [
    "x_m.shape"
   ]
  },
  {
   "cell_type": "code",
   "execution_count": 13,
   "metadata": {},
   "outputs": [],
   "source": [
    "X=np.stack((x_n,x_m,x_md),axis=1).astype(np.float16)"
   ]
  },
  {
   "cell_type": "code",
   "execution_count": 14,
   "metadata": {},
   "outputs": [
    {
     "data": {
      "text/plain": [
       "(2800, 3, 40, 40)"
      ]
     },
     "execution_count": 14,
     "metadata": {},
     "output_type": "execute_result"
    }
   ],
   "source": [
    "X.shape"
   ]
  },
  {
   "cell_type": "code",
   "execution_count": 15,
   "metadata": {},
   "outputs": [],
   "source": [
    "from sklearn.model_selection import train_test_split\n",
    "trainx, testx, trainlabel, testlabel = train_test_split(X, labels, test_size=0.2, random_state=20)"
   ]
  },
  {
   "cell_type": "code",
   "execution_count": 16,
   "metadata": {},
   "outputs": [],
   "source": [
    "sig_train, sig_test = trainx,testx\n",
    "lab_train, lab_test = trainlabel,testlabel"
   ]
  },
  {
   "cell_type": "code",
   "execution_count": 17,
   "metadata": {},
   "outputs": [],
   "source": [
    "sig_train = torch.from_numpy(sig_train)\n",
    "sig_test = torch.from_numpy(sig_test)\n",
    "lab_train= torch.from_numpy(lab_train)\n",
    "lab_test = torch.from_numpy(lab_test)"
   ]
  },
  {
   "cell_type": "code",
   "execution_count": 18,
   "metadata": {},
   "outputs": [],
   "source": [
    "import torch.utils.data as data_utils\n",
    "batch_size = 128 \n",
    "train_tensor = data_utils.TensorDataset(sig_train, lab_train) \n",
    "train_loader = data_utils.DataLoader(dataset = train_tensor, batch_size = batch_size, shuffle = True)"
   ]
  },
  {
   "cell_type": "code",
   "execution_count": 19,
   "metadata": {},
   "outputs": [],
   "source": [
    "batch_size = 1024\n",
    "test_tensor = data_utils.TensorDataset(sig_test, lab_test) \n",
    "test_loader = data_utils.DataLoader(dataset = test_tensor, batch_size = batch_size, shuffle = False)"
   ]
  },
  {
   "cell_type": "code",
   "execution_count": 20,
   "metadata": {},
   "outputs": [
    {
     "data": {
      "text/plain": [
       "torch.Size([2240, 3, 40, 40])"
      ]
     },
     "execution_count": 20,
     "metadata": {},
     "output_type": "execute_result"
    }
   ],
   "source": [
    "sig_train.size()"
   ]
  },
  {
   "cell_type": "code",
   "execution_count": 21,
   "metadata": {},
   "outputs": [
    {
     "data": {
      "text/plain": [
       "torch.Size([560, 3, 40, 40])"
      ]
     },
     "execution_count": 21,
     "metadata": {},
     "output_type": "execute_result"
    }
   ],
   "source": [
    "sig_test.size()"
   ]
  },
  {
   "cell_type": "code",
   "execution_count": 22,
   "metadata": {},
   "outputs": [],
   "source": [
    "class CNN(nn.Module):\n",
    "    def __init__(self):\n",
    "        super(CNN, self).__init__()\n",
    "        self.conv1 = nn.Conv2d(3, 32, kernel_size=4,stride=1,padding = 1) #o/p: 32x39x39\n",
    "        self.mp1 = nn.MaxPool2d(kernel_size=4,stride=2) #o/p:  32x17x17\n",
    "        self.conv2 = nn.Conv2d(32,64, kernel_size=4,stride =1) #o/p: 64x14x14\n",
    "        self.mp2 = nn.MaxPool2d(kernel_size=4,stride=2) #o/p: 64x6x6                                                                                                                                                                        \n",
    "        self.fc1= nn.Linear(2304,256)  \n",
    "        self.dp1 = nn.Dropout(p=0.25)\n",
    "        self.fc2 = nn.Linear(256,10)\n",
    "\n",
    "    def forward(self, x):\n",
    "        in_size = x.size(0)\n",
    "        x = F.relu(self.mp1(self.conv1(x)))\n",
    "        x = F.relu(self.mp2(self.conv2(x)))\n",
    "        x = x.view(in_size,-1)\n",
    "        x = F.relu(self.fc1(x))\n",
    "        x = self.dp1(x)\n",
    "        x = self.fc2(x)\n",
    "        \n",
    "        return F.log_softmax(x, dim=1)"
   ]
  },
  {
   "cell_type": "code",
   "execution_count": 23,
   "metadata": {},
   "outputs": [],
   "source": [
    "cnn = CNN().double()"
   ]
  },
  {
   "cell_type": "code",
   "execution_count": 24,
   "metadata": {},
   "outputs": [],
   "source": [
    "criterion = nn.CrossEntropyLoss()\n",
    "optimizer = torch.optim.Adam(cnn.parameters(), lr=0.001)"
   ]
  },
  {
   "cell_type": "code",
   "execution_count": 25,
   "metadata": {},
   "outputs": [],
   "source": [
    "num_epochs = 100"
   ]
  },
  {
   "cell_type": "code",
   "execution_count": 26,
   "metadata": {
    "tags": []
   },
   "outputs": [
    {
     "name": "stdout",
     "output_type": "stream",
     "text": [
      "Epoch [1/100], Step [1/18], Loss: 2.2985, Train Accuracy: 10.16%\n",
      "Epoch [1/100], Step [2/18], Loss: 2.3839, Train Accuracy: 7.81%\n",
      "Epoch [1/100], Step [3/18], Loss: 2.2476, Train Accuracy: 10.94%\n",
      "Epoch [1/100], Step [4/18], Loss: 2.2239, Train Accuracy: 21.09%\n",
      "Epoch [1/100], Step [5/18], Loss: 2.2238, Train Accuracy: 15.62%\n",
      "Epoch [1/100], Step [6/18], Loss: 2.1730, Train Accuracy: 17.97%\n",
      "Epoch [1/100], Step [7/18], Loss: 2.1488, Train Accuracy: 13.28%\n",
      "Epoch [1/100], Step [8/18], Loss: 2.1417, Train Accuracy: 16.41%\n",
      "Epoch [1/100], Step [9/18], Loss: 2.0593, Train Accuracy: 17.97%\n",
      "Epoch [1/100], Step [10/18], Loss: 1.9246, Train Accuracy: 35.16%\n",
      "Epoch [1/100], Step [11/18], Loss: 1.9782, Train Accuracy: 25.00%\n",
      "Epoch [1/100], Step [12/18], Loss: 1.9429, Train Accuracy: 27.34%\n",
      "Epoch [1/100], Step [13/18], Loss: 1.8339, Train Accuracy: 32.81%\n",
      "Epoch [1/100], Step [14/18], Loss: 1.7031, Train Accuracy: 38.28%\n",
      "Epoch [1/100], Step [15/18], Loss: 1.8723, Train Accuracy: 32.03%\n",
      "Epoch [1/100], Step [16/18], Loss: 1.5871, Train Accuracy: 46.88%\n",
      "Epoch [1/100], Step [17/18], Loss: 1.6784, Train Accuracy: 39.84%\n",
      "Epoch [1/100], Step [18/18], Loss: 1.6514, Train Accuracy: 31.25%\n",
      "Epoch [5/100], Step [1/18], Loss: 0.9833, Train Accuracy: 64.06%\n",
      "Epoch [5/100], Step [2/18], Loss: 1.0707, Train Accuracy: 61.72%\n",
      "Epoch [5/100], Step [3/18], Loss: 0.8794, Train Accuracy: 67.97%\n",
      "Epoch [5/100], Step [4/18], Loss: 0.9483, Train Accuracy: 67.97%\n",
      "Epoch [5/100], Step [5/18], Loss: 0.8871, Train Accuracy: 64.84%\n",
      "Epoch [5/100], Step [6/18], Loss: 1.0951, Train Accuracy: 53.12%\n",
      "Epoch [5/100], Step [7/18], Loss: 0.8793, Train Accuracy: 64.84%\n",
      "Epoch [5/100], Step [8/18], Loss: 0.9551, Train Accuracy: 62.50%\n",
      "Epoch [5/100], Step [9/18], Loss: 1.0232, Train Accuracy: 63.28%\n",
      "Epoch [5/100], Step [10/18], Loss: 0.9874, Train Accuracy: 67.19%\n",
      "Epoch [5/100], Step [11/18], Loss: 1.0680, Train Accuracy: 58.59%\n",
      "Epoch [5/100], Step [12/18], Loss: 0.8954, Train Accuracy: 63.28%\n",
      "Epoch [5/100], Step [13/18], Loss: 0.9782, Train Accuracy: 63.28%\n",
      "Epoch [5/100], Step [14/18], Loss: 0.9475, Train Accuracy: 56.25%\n",
      "Epoch [5/100], Step [15/18], Loss: 0.9240, Train Accuracy: 64.06%\n",
      "Epoch [5/100], Step [16/18], Loss: 1.0261, Train Accuracy: 60.16%\n",
      "Epoch [5/100], Step [17/18], Loss: 1.0201, Train Accuracy: 57.81%\n",
      "Epoch [5/100], Step [18/18], Loss: 0.9869, Train Accuracy: 60.94%\n",
      "Epoch [10/100], Step [1/18], Loss: 0.6606, Train Accuracy: 75.78%\n",
      "Epoch [10/100], Step [2/18], Loss: 0.6994, Train Accuracy: 75.78%\n",
      "Epoch [10/100], Step [3/18], Loss: 0.6714, Train Accuracy: 76.56%\n",
      "Epoch [10/100], Step [4/18], Loss: 0.7169, Train Accuracy: 71.88%\n",
      "Epoch [10/100], Step [5/18], Loss: 0.7379, Train Accuracy: 75.00%\n",
      "Epoch [10/100], Step [6/18], Loss: 0.7899, Train Accuracy: 71.88%\n",
      "Epoch [10/100], Step [7/18], Loss: 0.6464, Train Accuracy: 72.66%\n",
      "Epoch [10/100], Step [8/18], Loss: 0.7698, Train Accuracy: 71.09%\n",
      "Epoch [10/100], Step [9/18], Loss: 0.6920, Train Accuracy: 69.53%\n",
      "Epoch [10/100], Step [10/18], Loss: 0.7907, Train Accuracy: 71.09%\n",
      "Epoch [10/100], Step [11/18], Loss: 0.6575, Train Accuracy: 74.22%\n",
      "Epoch [10/100], Step [12/18], Loss: 0.8334, Train Accuracy: 64.06%\n",
      "Epoch [10/100], Step [13/18], Loss: 0.6914, Train Accuracy: 75.00%\n",
      "Epoch [10/100], Step [14/18], Loss: 0.8030, Train Accuracy: 67.19%\n",
      "Epoch [10/100], Step [15/18], Loss: 0.8666, Train Accuracy: 65.62%\n",
      "Epoch [10/100], Step [16/18], Loss: 0.8749, Train Accuracy: 67.97%\n",
      "Epoch [10/100], Step [17/18], Loss: 0.8531, Train Accuracy: 64.06%\n",
      "Epoch [10/100], Step [18/18], Loss: 0.8728, Train Accuracy: 67.19%\n",
      "Epoch [15/100], Step [1/18], Loss: 0.5616, Train Accuracy: 75.78%\n",
      "Epoch [15/100], Step [2/18], Loss: 0.6122, Train Accuracy: 77.34%\n",
      "Epoch [15/100], Step [3/18], Loss: 0.6868, Train Accuracy: 73.44%\n",
      "Epoch [15/100], Step [4/18], Loss: 0.5753, Train Accuracy: 75.78%\n",
      "Epoch [15/100], Step [5/18], Loss: 0.5866, Train Accuracy: 81.25%\n",
      "Epoch [15/100], Step [6/18], Loss: 0.6318, Train Accuracy: 75.00%\n",
      "Epoch [15/100], Step [7/18], Loss: 0.6740, Train Accuracy: 73.44%\n",
      "Epoch [15/100], Step [8/18], Loss: 0.6126, Train Accuracy: 71.88%\n",
      "Epoch [15/100], Step [9/18], Loss: 0.5298, Train Accuracy: 75.78%\n",
      "Epoch [15/100], Step [10/18], Loss: 0.6263, Train Accuracy: 77.34%\n",
      "Epoch [15/100], Step [11/18], Loss: 0.7067, Train Accuracy: 67.97%\n",
      "Epoch [15/100], Step [12/18], Loss: 0.5090, Train Accuracy: 78.91%\n",
      "Epoch [15/100], Step [13/18], Loss: 0.6800, Train Accuracy: 70.31%\n",
      "Epoch [15/100], Step [14/18], Loss: 0.5325, Train Accuracy: 79.69%\n",
      "Epoch [15/100], Step [15/18], Loss: 0.6583, Train Accuracy: 71.88%\n",
      "Epoch [15/100], Step [16/18], Loss: 0.5579, Train Accuracy: 78.12%\n",
      "Epoch [15/100], Step [17/18], Loss: 0.5834, Train Accuracy: 77.34%\n",
      "Epoch [15/100], Step [18/18], Loss: 0.7030, Train Accuracy: 73.44%\n",
      "Epoch [20/100], Step [1/18], Loss: 0.6211, Train Accuracy: 77.34%\n",
      "Epoch [20/100], Step [2/18], Loss: 0.5541, Train Accuracy: 78.91%\n",
      "Epoch [20/100], Step [3/18], Loss: 0.5263, Train Accuracy: 74.22%\n",
      "Epoch [20/100], Step [4/18], Loss: 0.5653, Train Accuracy: 77.34%\n",
      "Epoch [20/100], Step [5/18], Loss: 0.4894, Train Accuracy: 78.12%\n",
      "Epoch [20/100], Step [6/18], Loss: 0.5184, Train Accuracy: 79.69%\n",
      "Epoch [20/100], Step [7/18], Loss: 0.5452, Train Accuracy: 74.22%\n",
      "Epoch [20/100], Step [8/18], Loss: 0.5023, Train Accuracy: 81.25%\n",
      "Epoch [20/100], Step [9/18], Loss: 0.5373, Train Accuracy: 77.34%\n",
      "Epoch [20/100], Step [10/18], Loss: 0.6624, Train Accuracy: 75.78%\n",
      "Epoch [20/100], Step [11/18], Loss: 0.7728, Train Accuracy: 69.53%\n",
      "Epoch [20/100], Step [12/18], Loss: 0.5184, Train Accuracy: 76.56%\n",
      "Epoch [20/100], Step [13/18], Loss: 0.6579, Train Accuracy: 71.88%\n",
      "Epoch [20/100], Step [14/18], Loss: 0.5663, Train Accuracy: 82.03%\n",
      "Epoch [20/100], Step [15/18], Loss: 0.5328, Train Accuracy: 74.22%\n",
      "Epoch [20/100], Step [16/18], Loss: 0.5165, Train Accuracy: 82.81%\n",
      "Epoch [20/100], Step [17/18], Loss: 0.6482, Train Accuracy: 74.22%\n",
      "Epoch [20/100], Step [18/18], Loss: 0.5467, Train Accuracy: 76.56%\n",
      "Epoch [25/100], Step [1/18], Loss: 0.6579, Train Accuracy: 75.78%\n",
      "Epoch [25/100], Step [2/18], Loss: 0.6525, Train Accuracy: 75.78%\n",
      "Epoch [25/100], Step [3/18], Loss: 0.5445, Train Accuracy: 81.25%\n",
      "Epoch [25/100], Step [4/18], Loss: 0.5346, Train Accuracy: 76.56%\n",
      "Epoch [25/100], Step [5/18], Loss: 0.4760, Train Accuracy: 79.69%\n",
      "Epoch [25/100], Step [6/18], Loss: 0.5663, Train Accuracy: 76.56%\n",
      "Epoch [25/100], Step [7/18], Loss: 0.6439, Train Accuracy: 69.53%\n",
      "Epoch [25/100], Step [8/18], Loss: 0.5969, Train Accuracy: 71.88%\n",
      "Epoch [25/100], Step [9/18], Loss: 0.5980, Train Accuracy: 74.22%\n",
      "Epoch [25/100], Step [10/18], Loss: 0.5797, Train Accuracy: 75.78%\n",
      "Epoch [25/100], Step [11/18], Loss: 0.6071, Train Accuracy: 77.34%\n",
      "Epoch [25/100], Step [12/18], Loss: 0.5840, Train Accuracy: 71.88%\n",
      "Epoch [25/100], Step [13/18], Loss: 0.4657, Train Accuracy: 80.47%\n",
      "Epoch [25/100], Step [14/18], Loss: 0.6797, Train Accuracy: 72.66%\n",
      "Epoch [25/100], Step [15/18], Loss: 0.4994, Train Accuracy: 78.91%\n",
      "Epoch [25/100], Step [16/18], Loss: 0.6657, Train Accuracy: 70.31%\n",
      "Epoch [25/100], Step [17/18], Loss: 0.5739, Train Accuracy: 79.69%\n",
      "Epoch [25/100], Step [18/18], Loss: 0.4254, Train Accuracy: 84.38%\n",
      "Epoch [30/100], Step [1/18], Loss: 0.5009, Train Accuracy: 78.12%\n",
      "Epoch [30/100], Step [2/18], Loss: 0.3501, Train Accuracy: 84.38%\n",
      "Epoch [30/100], Step [3/18], Loss: 0.4547, Train Accuracy: 79.69%\n",
      "Epoch [30/100], Step [4/18], Loss: 0.4565, Train Accuracy: 85.94%\n",
      "Epoch [30/100], Step [5/18], Loss: 0.4719, Train Accuracy: 75.78%\n",
      "Epoch [30/100], Step [6/18], Loss: 0.4540, Train Accuracy: 83.59%\n",
      "Epoch [30/100], Step [7/18], Loss: 0.5030, Train Accuracy: 77.34%\n",
      "Epoch [30/100], Step [8/18], Loss: 0.5538, Train Accuracy: 78.12%\n",
      "Epoch [30/100], Step [9/18], Loss: 0.4640, Train Accuracy: 80.47%\n",
      "Epoch [30/100], Step [10/18], Loss: 0.4968, Train Accuracy: 82.03%\n",
      "Epoch [30/100], Step [11/18], Loss: 0.4347, Train Accuracy: 80.47%\n",
      "Epoch [30/100], Step [12/18], Loss: 0.4076, Train Accuracy: 85.94%\n",
      "Epoch [30/100], Step [13/18], Loss: 0.5105, Train Accuracy: 77.34%\n",
      "Epoch [30/100], Step [14/18], Loss: 0.5126, Train Accuracy: 74.22%\n",
      "Epoch [30/100], Step [15/18], Loss: 0.5240, Train Accuracy: 78.12%\n",
      "Epoch [30/100], Step [16/18], Loss: 0.4278, Train Accuracy: 78.91%\n",
      "Epoch [30/100], Step [17/18], Loss: 0.4896, Train Accuracy: 82.81%\n",
      "Epoch [30/100], Step [18/18], Loss: 0.5042, Train Accuracy: 78.12%\n",
      "Epoch [35/100], Step [1/18], Loss: 0.3761, Train Accuracy: 85.94%\n",
      "Epoch [35/100], Step [2/18], Loss: 0.4337, Train Accuracy: 81.25%\n",
      "Epoch [35/100], Step [3/18], Loss: 0.4521, Train Accuracy: 83.59%\n",
      "Epoch [35/100], Step [4/18], Loss: 0.3988, Train Accuracy: 82.81%\n",
      "Epoch [35/100], Step [5/18], Loss: 0.4971, Train Accuracy: 81.25%\n",
      "Epoch [35/100], Step [6/18], Loss: 0.4778, Train Accuracy: 82.03%\n",
      "Epoch [35/100], Step [7/18], Loss: 0.5378, Train Accuracy: 76.56%\n",
      "Epoch [35/100], Step [8/18], Loss: 0.5126, Train Accuracy: 78.91%\n",
      "Epoch [35/100], Step [9/18], Loss: 0.4566, Train Accuracy: 83.59%\n",
      "Epoch [35/100], Step [10/18], Loss: 0.4891, Train Accuracy: 78.91%\n",
      "Epoch [35/100], Step [11/18], Loss: 0.4929, Train Accuracy: 80.47%\n",
      "Epoch [35/100], Step [12/18], Loss: 0.5804, Train Accuracy: 76.56%\n",
      "Epoch [35/100], Step [13/18], Loss: 0.6424, Train Accuracy: 74.22%\n",
      "Epoch [35/100], Step [14/18], Loss: 0.5377, Train Accuracy: 76.56%\n",
      "Epoch [35/100], Step [15/18], Loss: 0.5187, Train Accuracy: 81.25%\n",
      "Epoch [35/100], Step [16/18], Loss: 0.4054, Train Accuracy: 84.38%\n",
      "Epoch [35/100], Step [17/18], Loss: 0.4815, Train Accuracy: 82.03%\n",
      "Epoch [35/100], Step [18/18], Loss: 0.3985, Train Accuracy: 84.38%\n",
      "Epoch [40/100], Step [1/18], Loss: 0.3500, Train Accuracy: 83.59%\n",
      "Epoch [40/100], Step [2/18], Loss: 0.4382, Train Accuracy: 81.25%\n",
      "Epoch [40/100], Step [3/18], Loss: 0.3134, Train Accuracy: 89.06%\n",
      "Epoch [40/100], Step [4/18], Loss: 0.4751, Train Accuracy: 81.25%\n",
      "Epoch [40/100], Step [5/18], Loss: 0.4764, Train Accuracy: 80.47%\n",
      "Epoch [40/100], Step [6/18], Loss: 0.4302, Train Accuracy: 85.16%\n",
      "Epoch [40/100], Step [7/18], Loss: 0.3400, Train Accuracy: 88.28%\n",
      "Epoch [40/100], Step [8/18], Loss: 0.3557, Train Accuracy: 88.28%\n",
      "Epoch [40/100], Step [9/18], Loss: 0.5275, Train Accuracy: 78.12%\n",
      "Epoch [40/100], Step [10/18], Loss: 0.3795, Train Accuracy: 89.84%\n",
      "Epoch [40/100], Step [11/18], Loss: 0.3642, Train Accuracy: 87.50%\n",
      "Epoch [40/100], Step [12/18], Loss: 0.3164, Train Accuracy: 92.19%\n",
      "Epoch [40/100], Step [13/18], Loss: 0.3712, Train Accuracy: 84.38%\n",
      "Epoch [40/100], Step [14/18], Loss: 0.4044, Train Accuracy: 83.59%\n",
      "Epoch [40/100], Step [15/18], Loss: 0.4372, Train Accuracy: 83.59%\n",
      "Epoch [40/100], Step [16/18], Loss: 0.3593, Train Accuracy: 86.72%\n",
      "Epoch [40/100], Step [17/18], Loss: 0.4728, Train Accuracy: 77.34%\n",
      "Epoch [40/100], Step [18/18], Loss: 0.3671, Train Accuracy: 87.50%\n",
      "Epoch [45/100], Step [1/18], Loss: 0.3967, Train Accuracy: 85.94%\n",
      "Epoch [45/100], Step [2/18], Loss: 0.3865, Train Accuracy: 85.94%\n",
      "Epoch [45/100], Step [3/18], Loss: 0.3333, Train Accuracy: 87.50%\n",
      "Epoch [45/100], Step [4/18], Loss: 0.3256, Train Accuracy: 85.16%\n",
      "Epoch [45/100], Step [5/18], Loss: 0.4251, Train Accuracy: 86.72%\n",
      "Epoch [45/100], Step [6/18], Loss: 0.2847, Train Accuracy: 91.41%\n",
      "Epoch [45/100], Step [7/18], Loss: 0.3400, Train Accuracy: 87.50%\n",
      "Epoch [45/100], Step [8/18], Loss: 0.4006, Train Accuracy: 84.38%\n",
      "Epoch [45/100], Step [9/18], Loss: 0.2840, Train Accuracy: 89.84%\n",
      "Epoch [45/100], Step [10/18], Loss: 0.4211, Train Accuracy: 85.16%\n",
      "Epoch [45/100], Step [11/18], Loss: 0.3605, Train Accuracy: 85.94%\n",
      "Epoch [45/100], Step [12/18], Loss: 0.3677, Train Accuracy: 88.28%\n",
      "Epoch [45/100], Step [13/18], Loss: 0.4271, Train Accuracy: 85.16%\n",
      "Epoch [45/100], Step [14/18], Loss: 0.3533, Train Accuracy: 87.50%\n",
      "Epoch [45/100], Step [15/18], Loss: 0.4215, Train Accuracy: 83.59%\n",
      "Epoch [45/100], Step [16/18], Loss: 0.3499, Train Accuracy: 85.94%\n",
      "Epoch [45/100], Step [17/18], Loss: 0.4136, Train Accuracy: 85.16%\n",
      "Epoch [45/100], Step [18/18], Loss: 0.3518, Train Accuracy: 85.94%\n",
      "Epoch [50/100], Step [1/18], Loss: 0.4365, Train Accuracy: 79.69%\n",
      "Epoch [50/100], Step [2/18], Loss: 0.3132, Train Accuracy: 89.06%\n",
      "Epoch [50/100], Step [3/18], Loss: 0.3611, Train Accuracy: 82.81%\n",
      "Epoch [50/100], Step [4/18], Loss: 0.3405, Train Accuracy: 84.38%\n",
      "Epoch [50/100], Step [5/18], Loss: 0.3783, Train Accuracy: 83.59%\n",
      "Epoch [50/100], Step [6/18], Loss: 0.3642, Train Accuracy: 82.81%\n",
      "Epoch [50/100], Step [7/18], Loss: 0.3149, Train Accuracy: 89.06%\n",
      "Epoch [50/100], Step [8/18], Loss: 0.4448, Train Accuracy: 85.16%\n",
      "Epoch [50/100], Step [9/18], Loss: 0.3069, Train Accuracy: 87.50%\n",
      "Epoch [50/100], Step [10/18], Loss: 0.3741, Train Accuracy: 82.03%\n",
      "Epoch [50/100], Step [11/18], Loss: 0.3610, Train Accuracy: 85.16%\n",
      "Epoch [50/100], Step [12/18], Loss: 0.2702, Train Accuracy: 89.06%\n",
      "Epoch [50/100], Step [13/18], Loss: 0.2772, Train Accuracy: 89.06%\n",
      "Epoch [50/100], Step [14/18], Loss: 0.2915, Train Accuracy: 89.06%\n",
      "Epoch [50/100], Step [15/18], Loss: 0.4398, Train Accuracy: 84.38%\n",
      "Epoch [50/100], Step [16/18], Loss: 0.3679, Train Accuracy: 85.94%\n",
      "Epoch [50/100], Step [17/18], Loss: 0.3740, Train Accuracy: 80.47%\n",
      "Epoch [50/100], Step [18/18], Loss: 0.3122, Train Accuracy: 89.06%\n",
      "Epoch [55/100], Step [1/18], Loss: 0.2645, Train Accuracy: 90.62%\n",
      "Epoch [55/100], Step [2/18], Loss: 0.3046, Train Accuracy: 85.94%\n",
      "Epoch [55/100], Step [3/18], Loss: 0.2273, Train Accuracy: 89.84%\n",
      "Epoch [55/100], Step [4/18], Loss: 0.2500, Train Accuracy: 92.19%\n",
      "Epoch [55/100], Step [5/18], Loss: 0.3833, Train Accuracy: 89.06%\n",
      "Epoch [55/100], Step [6/18], Loss: 0.3900, Train Accuracy: 87.50%\n",
      "Epoch [55/100], Step [7/18], Loss: 0.2831, Train Accuracy: 87.50%\n",
      "Epoch [55/100], Step [8/18], Loss: 0.2980, Train Accuracy: 87.50%\n",
      "Epoch [55/100], Step [9/18], Loss: 0.2883, Train Accuracy: 89.06%\n",
      "Epoch [55/100], Step [10/18], Loss: 0.2581, Train Accuracy: 89.06%\n",
      "Epoch [55/100], Step [11/18], Loss: 0.2825, Train Accuracy: 90.62%\n",
      "Epoch [55/100], Step [12/18], Loss: 0.2572, Train Accuracy: 89.06%\n",
      "Epoch [55/100], Step [13/18], Loss: 0.3185, Train Accuracy: 86.72%\n",
      "Epoch [55/100], Step [14/18], Loss: 0.2789, Train Accuracy: 87.50%\n",
      "Epoch [55/100], Step [15/18], Loss: 0.2443, Train Accuracy: 89.06%\n",
      "Epoch [55/100], Step [16/18], Loss: 0.2342, Train Accuracy: 91.41%\n",
      "Epoch [55/100], Step [17/18], Loss: 0.2923, Train Accuracy: 85.94%\n",
      "Epoch [55/100], Step [18/18], Loss: 0.2686, Train Accuracy: 87.50%\n",
      "Epoch [60/100], Step [1/18], Loss: 0.4187, Train Accuracy: 83.59%\n",
      "Epoch [60/100], Step [2/18], Loss: 0.2506, Train Accuracy: 88.28%\n",
      "Epoch [60/100], Step [3/18], Loss: 0.2657, Train Accuracy: 89.84%\n",
      "Epoch [60/100], Step [4/18], Loss: 0.4275, Train Accuracy: 83.59%\n",
      "Epoch [60/100], Step [5/18], Loss: 0.3015, Train Accuracy: 90.62%\n",
      "Epoch [60/100], Step [6/18], Loss: 0.2828, Train Accuracy: 90.62%\n",
      "Epoch [60/100], Step [7/18], Loss: 0.2625, Train Accuracy: 91.41%\n",
      "Epoch [60/100], Step [8/18], Loss: 0.3261, Train Accuracy: 88.28%\n",
      "Epoch [60/100], Step [9/18], Loss: 0.2718, Train Accuracy: 87.50%\n",
      "Epoch [60/100], Step [10/18], Loss: 0.2465, Train Accuracy: 91.41%\n",
      "Epoch [60/100], Step [11/18], Loss: 0.2467, Train Accuracy: 92.97%\n",
      "Epoch [60/100], Step [12/18], Loss: 0.2641, Train Accuracy: 88.28%\n",
      "Epoch [60/100], Step [13/18], Loss: 0.2641, Train Accuracy: 89.84%\n",
      "Epoch [60/100], Step [14/18], Loss: 0.3492, Train Accuracy: 82.03%\n",
      "Epoch [60/100], Step [15/18], Loss: 0.3491, Train Accuracy: 89.84%\n",
      "Epoch [60/100], Step [16/18], Loss: 0.3485, Train Accuracy: 89.84%\n",
      "Epoch [60/100], Step [17/18], Loss: 0.2816, Train Accuracy: 89.06%\n",
      "Epoch [60/100], Step [18/18], Loss: 0.2885, Train Accuracy: 90.62%\n",
      "Epoch [65/100], Step [1/18], Loss: 0.2426, Train Accuracy: 91.41%\n",
      "Epoch [65/100], Step [2/18], Loss: 0.2743, Train Accuracy: 93.75%\n",
      "Epoch [65/100], Step [3/18], Loss: 0.1825, Train Accuracy: 91.41%\n",
      "Epoch [65/100], Step [4/18], Loss: 0.2560, Train Accuracy: 90.62%\n",
      "Epoch [65/100], Step [5/18], Loss: 0.2601, Train Accuracy: 87.50%\n",
      "Epoch [65/100], Step [6/18], Loss: 0.2317, Train Accuracy: 89.06%\n",
      "Epoch [65/100], Step [7/18], Loss: 0.2220, Train Accuracy: 91.41%\n",
      "Epoch [65/100], Step [8/18], Loss: 0.2104, Train Accuracy: 94.53%\n",
      "Epoch [65/100], Step [9/18], Loss: 0.1821, Train Accuracy: 94.53%\n",
      "Epoch [65/100], Step [10/18], Loss: 0.2465, Train Accuracy: 90.62%\n",
      "Epoch [65/100], Step [11/18], Loss: 0.2447, Train Accuracy: 91.41%\n",
      "Epoch [65/100], Step [12/18], Loss: 0.1537, Train Accuracy: 97.66%\n",
      "Epoch [65/100], Step [13/18], Loss: 0.2580, Train Accuracy: 89.06%\n",
      "Epoch [65/100], Step [14/18], Loss: 0.2362, Train Accuracy: 89.84%\n",
      "Epoch [65/100], Step [15/18], Loss: 0.2687, Train Accuracy: 90.62%\n",
      "Epoch [65/100], Step [16/18], Loss: 0.2700, Train Accuracy: 92.19%\n",
      "Epoch [65/100], Step [17/18], Loss: 0.2625, Train Accuracy: 90.62%\n",
      "Epoch [65/100], Step [18/18], Loss: 0.1098, Train Accuracy: 100.00%\n",
      "Epoch [70/100], Step [1/18], Loss: 0.2142, Train Accuracy: 92.97%\n",
      "Epoch [70/100], Step [2/18], Loss: 0.1581, Train Accuracy: 95.31%\n",
      "Epoch [70/100], Step [3/18], Loss: 0.1296, Train Accuracy: 96.09%\n",
      "Epoch [70/100], Step [4/18], Loss: 0.1903, Train Accuracy: 93.75%\n",
      "Epoch [70/100], Step [5/18], Loss: 0.1390, Train Accuracy: 96.88%\n",
      "Epoch [70/100], Step [6/18], Loss: 0.1931, Train Accuracy: 94.53%\n",
      "Epoch [70/100], Step [7/18], Loss: 0.1898, Train Accuracy: 92.97%\n",
      "Epoch [70/100], Step [8/18], Loss: 0.1502, Train Accuracy: 96.88%\n",
      "Epoch [70/100], Step [9/18], Loss: 0.1713, Train Accuracy: 91.41%\n",
      "Epoch [70/100], Step [10/18], Loss: 0.1610, Train Accuracy: 96.09%\n",
      "Epoch [70/100], Step [11/18], Loss: 0.2409, Train Accuracy: 91.41%\n",
      "Epoch [70/100], Step [12/18], Loss: 0.1816, Train Accuracy: 92.97%\n",
      "Epoch [70/100], Step [13/18], Loss: 0.1844, Train Accuracy: 95.31%\n",
      "Epoch [70/100], Step [14/18], Loss: 0.1950, Train Accuracy: 91.41%\n",
      "Epoch [70/100], Step [15/18], Loss: 0.1564, Train Accuracy: 96.09%\n",
      "Epoch [70/100], Step [16/18], Loss: 0.1454, Train Accuracy: 93.75%\n",
      "Epoch [70/100], Step [17/18], Loss: 0.2106, Train Accuracy: 88.28%\n",
      "Epoch [70/100], Step [18/18], Loss: 0.1980, Train Accuracy: 93.75%\n",
      "Epoch [75/100], Step [1/18], Loss: 0.1478, Train Accuracy: 96.09%\n",
      "Epoch [75/100], Step [2/18], Loss: 0.1340, Train Accuracy: 96.09%\n",
      "Epoch [75/100], Step [3/18], Loss: 0.1926, Train Accuracy: 94.53%\n",
      "Epoch [75/100], Step [4/18], Loss: 0.0931, Train Accuracy: 99.22%\n",
      "Epoch [75/100], Step [5/18], Loss: 0.1892, Train Accuracy: 95.31%\n",
      "Epoch [75/100], Step [6/18], Loss: 0.1231, Train Accuracy: 96.09%\n",
      "Epoch [75/100], Step [7/18], Loss: 0.1231, Train Accuracy: 97.66%\n",
      "Epoch [75/100], Step [8/18], Loss: 0.1127, Train Accuracy: 96.88%\n",
      "Epoch [75/100], Step [9/18], Loss: 0.1579, Train Accuracy: 95.31%\n",
      "Epoch [75/100], Step [10/18], Loss: 0.1851, Train Accuracy: 96.88%\n",
      "Epoch [75/100], Step [11/18], Loss: 0.1430, Train Accuracy: 95.31%\n",
      "Epoch [75/100], Step [12/18], Loss: 0.1470, Train Accuracy: 96.09%\n",
      "Epoch [75/100], Step [13/18], Loss: 0.0912, Train Accuracy: 99.22%\n",
      "Epoch [75/100], Step [14/18], Loss: 0.0980, Train Accuracy: 96.88%\n",
      "Epoch [75/100], Step [15/18], Loss: 0.2163, Train Accuracy: 92.97%\n",
      "Epoch [75/100], Step [16/18], Loss: 0.1885, Train Accuracy: 91.41%\n",
      "Epoch [75/100], Step [17/18], Loss: 0.1140, Train Accuracy: 94.53%\n",
      "Epoch [75/100], Step [18/18], Loss: 0.1216, Train Accuracy: 95.31%\n",
      "Epoch [80/100], Step [1/18], Loss: 0.1566, Train Accuracy: 94.53%\n",
      "Epoch [80/100], Step [2/18], Loss: 0.2258, Train Accuracy: 89.06%\n",
      "Epoch [80/100], Step [3/18], Loss: 0.0857, Train Accuracy: 99.22%\n",
      "Epoch [80/100], Step [4/18], Loss: 0.1470, Train Accuracy: 96.09%\n",
      "Epoch [80/100], Step [5/18], Loss: 0.2170, Train Accuracy: 91.41%\n",
      "Epoch [80/100], Step [6/18], Loss: 0.0983, Train Accuracy: 97.66%\n",
      "Epoch [80/100], Step [7/18], Loss: 0.1264, Train Accuracy: 96.88%\n",
      "Epoch [80/100], Step [8/18], Loss: 0.1680, Train Accuracy: 94.53%\n",
      "Epoch [80/100], Step [9/18], Loss: 0.1152, Train Accuracy: 96.09%\n",
      "Epoch [80/100], Step [10/18], Loss: 0.1233, Train Accuracy: 95.31%\n",
      "Epoch [80/100], Step [11/18], Loss: 0.1560, Train Accuracy: 92.97%\n",
      "Epoch [80/100], Step [12/18], Loss: 0.1388, Train Accuracy: 96.09%\n",
      "Epoch [80/100], Step [13/18], Loss: 0.1652, Train Accuracy: 95.31%\n",
      "Epoch [80/100], Step [14/18], Loss: 0.1205, Train Accuracy: 96.09%\n",
      "Epoch [80/100], Step [15/18], Loss: 0.1408, Train Accuracy: 96.09%\n",
      "Epoch [80/100], Step [16/18], Loss: 0.1166, Train Accuracy: 96.09%\n",
      "Epoch [80/100], Step [17/18], Loss: 0.1652, Train Accuracy: 96.09%\n",
      "Epoch [80/100], Step [18/18], Loss: 0.1329, Train Accuracy: 95.31%\n",
      "Epoch [85/100], Step [1/18], Loss: 0.0884, Train Accuracy: 97.66%\n",
      "Epoch [85/100], Step [2/18], Loss: 0.0837, Train Accuracy: 97.66%\n",
      "Epoch [85/100], Step [3/18], Loss: 0.1540, Train Accuracy: 94.53%\n",
      "Epoch [85/100], Step [4/18], Loss: 0.1075, Train Accuracy: 96.09%\n",
      "Epoch [85/100], Step [5/18], Loss: 0.1223, Train Accuracy: 92.97%\n",
      "Epoch [85/100], Step [6/18], Loss: 0.0902, Train Accuracy: 95.31%\n",
      "Epoch [85/100], Step [7/18], Loss: 0.1105, Train Accuracy: 95.31%\n",
      "Epoch [85/100], Step [8/18], Loss: 0.1136, Train Accuracy: 96.09%\n",
      "Epoch [85/100], Step [9/18], Loss: 0.0505, Train Accuracy: 100.00%\n",
      "Epoch [85/100], Step [10/18], Loss: 0.0819, Train Accuracy: 99.22%\n",
      "Epoch [85/100], Step [11/18], Loss: 0.1168, Train Accuracy: 95.31%\n",
      "Epoch [85/100], Step [12/18], Loss: 0.0973, Train Accuracy: 95.31%\n",
      "Epoch [85/100], Step [13/18], Loss: 0.0672, Train Accuracy: 98.44%\n",
      "Epoch [85/100], Step [14/18], Loss: 0.0706, Train Accuracy: 100.00%\n",
      "Epoch [85/100], Step [15/18], Loss: 0.0711, Train Accuracy: 97.66%\n",
      "Epoch [85/100], Step [16/18], Loss: 0.0895, Train Accuracy: 98.44%\n",
      "Epoch [85/100], Step [17/18], Loss: 0.1283, Train Accuracy: 96.09%\n",
      "Epoch [85/100], Step [18/18], Loss: 0.0894, Train Accuracy: 96.88%\n",
      "Epoch [90/100], Step [1/18], Loss: 0.1057, Train Accuracy: 98.44%\n",
      "Epoch [90/100], Step [2/18], Loss: 0.1847, Train Accuracy: 92.19%\n",
      "Epoch [90/100], Step [3/18], Loss: 0.1127, Train Accuracy: 96.88%\n",
      "Epoch [90/100], Step [4/18], Loss: 0.1261, Train Accuracy: 94.53%\n",
      "Epoch [90/100], Step [5/18], Loss: 0.0891, Train Accuracy: 97.66%\n",
      "Epoch [90/100], Step [6/18], Loss: 0.1292, Train Accuracy: 95.31%\n",
      "Epoch [90/100], Step [7/18], Loss: 0.0908, Train Accuracy: 97.66%\n",
      "Epoch [90/100], Step [8/18], Loss: 0.0655, Train Accuracy: 99.22%\n",
      "Epoch [90/100], Step [9/18], Loss: 0.0737, Train Accuracy: 99.22%\n",
      "Epoch [90/100], Step [10/18], Loss: 0.0776, Train Accuracy: 97.66%\n",
      "Epoch [90/100], Step [11/18], Loss: 0.1044, Train Accuracy: 96.88%\n",
      "Epoch [90/100], Step [12/18], Loss: 0.0624, Train Accuracy: 99.22%\n",
      "Epoch [90/100], Step [13/18], Loss: 0.1460, Train Accuracy: 93.75%\n",
      "Epoch [90/100], Step [14/18], Loss: 0.1093, Train Accuracy: 99.22%\n",
      "Epoch [90/100], Step [15/18], Loss: 0.0664, Train Accuracy: 98.44%\n",
      "Epoch [90/100], Step [16/18], Loss: 0.0730, Train Accuracy: 97.66%\n",
      "Epoch [90/100], Step [17/18], Loss: 0.1290, Train Accuracy: 95.31%\n",
      "Epoch [90/100], Step [18/18], Loss: 0.0571, Train Accuracy: 98.44%\n",
      "Epoch [95/100], Step [1/18], Loss: 0.1602, Train Accuracy: 93.75%\n",
      "Epoch [95/100], Step [2/18], Loss: 0.1915, Train Accuracy: 93.75%\n",
      "Epoch [95/100], Step [3/18], Loss: 0.1285, Train Accuracy: 94.53%\n",
      "Epoch [95/100], Step [4/18], Loss: 0.1804, Train Accuracy: 95.31%\n",
      "Epoch [95/100], Step [5/18], Loss: 0.1234, Train Accuracy: 96.09%\n",
      "Epoch [95/100], Step [6/18], Loss: 0.1181, Train Accuracy: 98.44%\n",
      "Epoch [95/100], Step [7/18], Loss: 0.1934, Train Accuracy: 96.09%\n",
      "Epoch [95/100], Step [8/18], Loss: 0.1337, Train Accuracy: 96.88%\n",
      "Epoch [95/100], Step [9/18], Loss: 0.1031, Train Accuracy: 97.66%\n",
      "Epoch [95/100], Step [10/18], Loss: 0.1928, Train Accuracy: 93.75%\n",
      "Epoch [95/100], Step [11/18], Loss: 0.1252, Train Accuracy: 96.88%\n",
      "Epoch [95/100], Step [12/18], Loss: 0.0983, Train Accuracy: 97.66%\n",
      "Epoch [95/100], Step [13/18], Loss: 0.1052, Train Accuracy: 97.66%\n",
      "Epoch [95/100], Step [14/18], Loss: 0.1084, Train Accuracy: 98.44%\n",
      "Epoch [95/100], Step [15/18], Loss: 0.0879, Train Accuracy: 98.44%\n",
      "Epoch [95/100], Step [16/18], Loss: 0.1188, Train Accuracy: 96.09%\n",
      "Epoch [95/100], Step [17/18], Loss: 0.1089, Train Accuracy: 96.09%\n",
      "Epoch [95/100], Step [18/18], Loss: 0.1539, Train Accuracy: 93.75%\n",
      "Epoch [100/100], Step [1/18], Loss: 0.0537, Train Accuracy: 99.22%\n",
      "Epoch [100/100], Step [2/18], Loss: 0.0655, Train Accuracy: 98.44%\n",
      "Epoch [100/100], Step [3/18], Loss: 0.1033, Train Accuracy: 96.88%\n",
      "Epoch [100/100], Step [4/18], Loss: 0.0615, Train Accuracy: 99.22%\n",
      "Epoch [100/100], Step [5/18], Loss: 0.0494, Train Accuracy: 99.22%\n",
      "Epoch [100/100], Step [6/18], Loss: 0.0773, Train Accuracy: 96.88%\n",
      "Epoch [100/100], Step [7/18], Loss: 0.0939, Train Accuracy: 97.66%\n",
      "Epoch [100/100], Step [8/18], Loss: 0.0603, Train Accuracy: 99.22%\n",
      "Epoch [100/100], Step [9/18], Loss: 0.0400, Train Accuracy: 100.00%\n",
      "Epoch [100/100], Step [10/18], Loss: 0.1060, Train Accuracy: 98.44%\n",
      "Epoch [100/100], Step [11/18], Loss: 0.0779, Train Accuracy: 97.66%\n",
      "Epoch [100/100], Step [12/18], Loss: 0.0603, Train Accuracy: 100.00%\n",
      "Epoch [100/100], Step [13/18], Loss: 0.0607, Train Accuracy: 98.44%\n",
      "Epoch [100/100], Step [14/18], Loss: 0.0890, Train Accuracy: 97.66%\n",
      "Epoch [100/100], Step [15/18], Loss: 0.1073, Train Accuracy: 99.22%\n",
      "Epoch [100/100], Step [16/18], Loss: 0.0643, Train Accuracy: 99.22%\n",
      "Epoch [100/100], Step [17/18], Loss: 0.0716, Train Accuracy: 96.09%\n",
      "Epoch [100/100], Step [18/18], Loss: 0.0352, Train Accuracy: 100.00%\n"
     ]
    }
   ],
   "source": [
    "total_step = len(train_loader)\n",
    "loss_list = []\n",
    "acc_list = []\n",
    "for epoch in range(num_epochs):\n",
    "    for i, (signals, labels) in enumerate(train_loader):\n",
    "        optimizer.zero_grad()\n",
    "        # Run the forward pass\n",
    "        #Here the size of label is [N,1] where N is batch-size\n",
    "        signals=signals\n",
    "        labels=labels\n",
    "        outputs = cnn(signals.double())\n",
    "        loss = criterion(outputs, labels.long())\n",
    "        \n",
    "        # loss_list.append(loss.item())\n",
    "\n",
    "        # Backprop and perform Adam optimisation\n",
    "        \n",
    "        loss.backward() # Calculates the gradient and stores it\n",
    "        optimizer.step() # Picks up the gradient=> performs optimization and updates the weights\n",
    "        # Track the accuracy\n",
    "        total = labels.size(0)\n",
    "        _, predicted = torch.max(outputs.data, 1)\n",
    "        correct = (predicted == labels.long()).sum().item()\n",
    "        acc_list.append(correct / total)\n",
    "\n",
    "        if (epoch+1) % 5 == 0 or epoch==0:\n",
    "            print('Epoch [{}/{}], Step [{}/{}], Loss: {:.4f}, Train Accuracy: {:.2f}%'\n",
    "                  .format(epoch + 1, num_epochs, i + 1, total_step, loss.item(),\n",
    "                          (correct / total) * 100))\n",
    "        "
   ]
  },
  {
   "cell_type": "code",
   "execution_count": 27,
   "metadata": {},
   "outputs": [
    {
     "name": "stdout",
     "output_type": "stream",
     "text": [
      "0\n",
      "Loss: 0.8092, Accuracy: 74.29%\n"
     ]
    }
   ],
   "source": [
    "total_step = len(test_loader)\n",
    "# print(total_step)\n",
    "loss_list_test = []\n",
    "acc_list_test = []\n",
    "cnn.eval()\n",
    "with torch.no_grad():\n",
    "    for i, (signals, labels) in enumerate(test_loader):\n",
    "        print(i)\n",
    "        # Run the forward pass\n",
    "        signals=signals\n",
    "        labels=labels\n",
    "        outputs = cnn(signals.double())\n",
    "        loss = criterion(outputs, labels.long())\n",
    "        loss_list_test.append(loss.item())\n",
    "        # if epoch%10 ==0:\n",
    "        #     print(loss)\n",
    "        total = labels.size(0)\n",
    "        _, predicted = torch.max(outputs.data, 1)\n",
    "        correct = (predicted == labels.long()).sum().item()\n",
    "        acc_list_test.append(correct / total)\n",
    "        if (epoch) % 1 == 0:\n",
    "            print('Loss: {:.4f}, Accuracy: {:.2f}%'\n",
    "                  .format(loss.item(),\n",
    "                          (correct / total) * 100))"
   ]
  },
  {
   "cell_type": "code",
   "execution_count": null,
   "metadata": {},
   "outputs": [],
   "source": []
  },
  {
   "cell_type": "code",
   "execution_count": null,
   "metadata": {},
   "outputs": [],
   "source": []
  }
 ],
 "metadata": {
  "kernelspec": {
   "display_name": "Python 3 (ipykernel)",
   "language": "python",
   "name": "python3"
  },
  "language_info": {
   "codemirror_mode": {
    "name": "ipython",
    "version": 3
   },
   "file_extension": ".py",
   "mimetype": "text/x-python",
   "name": "python",
   "nbconvert_exporter": "python",
   "pygments_lexer": "ipython3",
   "version": "3.8.12"
  }
 },
 "nbformat": 4,
 "nbformat_minor": 4
}
